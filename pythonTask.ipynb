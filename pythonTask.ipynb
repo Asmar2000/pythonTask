{
  "nbformat": 4,
  "nbformat_minor": 0,
  "metadata": {
    "colab": {
      "provenance": [],
      "mount_file_id": "1KNtZqqFht5L0YLCGwZdHXLrkX88Fx6YM",
      "authorship_tag": "ABX9TyOzYfQaLUoqpzGwrUggewt+",
      "include_colab_link": true
    },
    "kernelspec": {
      "name": "python3",
      "display_name": "Python 3"
    },
    "language_info": {
      "name": "python"
    }
  },
  "cells": [
    {
      "cell_type": "markdown",
      "metadata": {
        "id": "view-in-github",
        "colab_type": "text"
      },
      "source": [
        "<a href=\"https://colab.research.google.com/github/Asmar2000/pythonTask/blob/main/pythonTask.ipynb\" target=\"_parent\"><img src=\"https://colab.research.google.com/assets/colab-badge.svg\" alt=\"Open In Colab\"/></a>"
      ]
    },
    {
      "cell_type": "code",
      "execution_count": 2,
      "metadata": {
        "colab": {
          "base_uri": "https://localhost:8080/"
        },
        "id": "r2IjK4v-BofR",
        "outputId": "7071fd68-d6fc-47f3-c2e6-99542a04275b"
      },
      "outputs": [
        {
          "output_type": "stream",
          "name": "stdout",
          "text": [
            "Average age: 34.42857142857143\n",
            "Median salary: 58482.0\n",
            "Male to female ratio: 2.5\n"
          ]
        }
      ],
      "source": [
        "import pandas as pd\n",
        "\n",
        "Employees = pd.read_csv(\"/content/drive/MyDrive/task/Employees.csv\")\n",
        "\n",
        "\n",
        "Employees = Employees.drop_duplicates()\n",
        "\n",
        "Employees['Age'] = Employees['Age'].astype(int)\n",
        "\n",
        "Employees['Salary(USD)'] = Employees['Salary(USD)'] * 30.78\n",
        "Employees = Employees.rename(columns={'Salary(USD)': 'Salary in EGP'})\n",
        "\n",
        "\n",
        "print(\"Average age:\", Employees['Age'].mean())\n",
        "print(\"Median salary:\", Employees['Salary in EGP'].median())\n",
        "\n",
        "numberOfMales = Employees[Employees['Gender'] == 'M'].shape[0]\n",
        "numberOfFemales = Employees[Employees['Gender'] == 'F'].shape[0]\n",
        "\n",
        "print(\"Male to female ratio:\", numberOfMales / numberOfFemales)\n",
        "Employees.to_csv('new_file.csv', index=False)"
      ]
    }
  ]
}